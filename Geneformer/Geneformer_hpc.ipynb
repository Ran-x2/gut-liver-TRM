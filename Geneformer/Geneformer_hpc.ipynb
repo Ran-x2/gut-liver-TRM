{
 "cells": [
  {
   "cell_type": "code",
   "execution_count": null,
   "metadata": {},
   "outputs": [],
   "source": [
    "#srun -p gpu --gres=gpu:1 --cpus-per-task=24 --mem=128G  --time=4200 --pty /bin/bash\n",
    "import sys\n",
    "import os\n",
    "sys.path.append(os.getcwd())\n",
    "from geneformer import InSilicoPerturber\n",
    "from geneformer import InSilicoPerturberStats\n",
    "from geneformer import EmbExtractor"
   ]
  },
  {
   "cell_type": "code",
   "execution_count": null,
   "metadata": {},
   "outputs": [],
   "source": [
    "storage_dir = '/mnt/vstor/***/***' #just your storage dir\n",
    "output_prefix=\"Donor_AJKQ118_IEL_TCRab_CD8ab_TRM\" # one example, there are other 3. I only changed name for each run\n",
    "# For how to prepare the data for Geneformer, please see the expanded_DEG.ipynb\n",
    "vanilla_model = \"/home/***/Geneformer/gf-12L-95M-i4096\""
   ]
  },
  {
   "cell_type": "code",
   "execution_count": null,
   "metadata": {},
   "outputs": [],
   "source": [
    "from geneformer import TranscriptomeTokenizer\n",
    "tk = TranscriptomeTokenizer({\"top10_or_not\": \"top10_or_not\", \"activation\": \"activation\"}, nproc=15)\n",
    "tk.tokenize_data(f\"{storage_dir}/{output_prefix}\", \n",
    "                 f\"{storage_dir}/{output_prefix}\",\n",
    "                 \"tokenized\", \n",
    "                 file_format=\"h5ad\")"
   ]
  },
  {
   "cell_type": "code",
   "execution_count": null,
   "metadata": {},
   "outputs": [],
   "source": [
    "from geneformer import Classifier\n",
    "cc = Classifier(classifier=\"cell\",\n",
    "                cell_state_dict = {\"state_key\": \"top10_or_not\", \"states\": \"all\"},\n",
    "                max_ncells=None,\n",
    "                freeze_layers = 6,\n",
    "                num_crossval_splits = 1,\n",
    "                split_sizes = {\"train\": 0.6, \"valid\": 0.2, \"test\": 0.2},\n",
    "                forward_batch_size=150,\n",
    "                nproc=47)\n",
    "\n",
    "\n",
    "cc.prepare_data(input_data_file=f\"{storage_dir}/{output_prefix}/tokenized.dataset\",\n",
    "                output_directory=f\"{storage_dir}/{output_prefix}/\",\n",
    "                output_prefix=output_prefix)\n",
    "\n",
    "all_metrics = cc.validate(model_directory=vanilla_model,\n",
    "                          prepared_input_data_file=f\"{storage_dir}/{output_prefix}/{output_prefix}_labeled_train.dataset\",\n",
    "                          id_class_dict_file=f\"{storage_dir}/{output_prefix}/{output_prefix}_id_class_dict.pkl\",\n",
    "                          output_directory=f\"{storage_dir}/{output_prefix}/\",\n",
    "                          output_prefix=output_prefix,\n",
    "                          #n_hyperopt_trials=1,\n",
    "                          predict_eval=True)\n"
   ]
  },
  {
   "cell_type": "code",
   "execution_count": null,
   "metadata": {},
   "outputs": [],
   "source": [
    "model = f\"{storage_dir}/{output_prefix}/geneformer_cellClassifier_{output_prefix}/ksplit1/\""
   ]
  },
  {
   "cell_type": "code",
   "execution_count": null,
   "metadata": {},
   "outputs": [],
   "source": [
    "all_metrics = cc.validate(model_directory=model,\n",
    "                          prepared_input_data_file=f\"{storage_dir}/{output_prefix}/{output_prefix}_labeled_train.dataset\",\n",
    "                          id_class_dict_file=f\"{storage_dir}/{output_prefix}/{output_prefix}_id_class_dict.pkl\",\n",
    "                          output_directory=f\"{storage_dir}/{output_prefix}/hyparam_test\",\n",
    "                          output_prefix=output_prefix,\n",
    "                          n_hyperopt_trials=30,\n",
    "                          predict_eval=True)"
   ]
  },
  {
   "cell_type": "code",
   "execution_count": null,
   "metadata": {},
   "outputs": [],
   "source": [
    "embex = EmbExtractor(model_type=\"CellClassifier\",\n",
    "                     num_classes=2, \n",
    "                     max_ncells=1000,\n",
    "                     emb_layer=-1, \n",
    "                     emb_label=[\"top10_or_not\"],\n",
    "                     labels_to_plot=[\"top10_or_not\"],\n",
    "                     forward_batch_size=128,\n",
    "                     nproc=80)\n",
    "\n",
    "\n",
    "embs = embex.extract_embs(model,\n",
    "                          f\"{storage_dir}/{output_prefix}/tokenized.dataset\",\n",
    "                          f\"{storage_dir}/{output_prefix}/\",\n",
    "                          \"top10_or_not_embeddings_labeled\")\n",
    "\n",
    "embex.plot_embs(embs=embs,\n",
    "                plot_style=\"heatmap\",\n",
    "                output_directory=f\"{storage_dir}/{output_prefix}/\",\n",
    "                output_prefix=\"embeddings_heatmap\")\n",
    "\n",
    "\n",
    "all_metrics_test = cc.evaluate_saved_model(\n",
    "        model_directory=model,\n",
    "        id_class_dict_file=f\"{storage_dir}/{output_prefix}/{output_prefix}_id_class_dict.pkl\",\n",
    "        test_data_file=f\"{storage_dir}/{output_prefix}/{output_prefix}_labeled_test.dataset\",\n",
    "        output_directory=f\"{storage_dir}/{output_prefix}/\",\n",
    "        output_prefix=output_prefix + 'top10_or_not',\n",
    "    )\n",
    "\n",
    "cc.plot_conf_mat(\n",
    "        conf_mat_dict={\"Geneformer\": all_metrics_test[\"conf_matrix\"]},\n",
    "        output_directory=f\"{storage_dir}/{output_prefix}/\",\n",
    "        output_prefix=output_prefix + 'top10_or_not'\n",
    ")"
   ]
  },
  {
   "cell_type": "code",
   "execution_count": null,
   "metadata": {},
   "outputs": [],
   "source": [
    "cell_states_to_model = {\n",
    "    \"state_key\": \"top10_or_not\", \n",
    "    \"start_state\": \"False\", \n",
    "    \"goal_state\": \"True\",\n",
    "}\n",
    "\n",
    "embex = EmbExtractor(model_type=\"CellClassifier\",\n",
    "                     num_classes=2, \n",
    "                     max_ncells=1000,\n",
    "                     emb_layer=-1, \n",
    "                     summary_stat=\"exact_mean\",  # I don't want this stat\n",
    "                     forward_batch_size=128,\n",
    "                     nproc=80)\n",
    "\n",
    "state_embs_dict = embex.get_state_embs(\n",
    "    cell_states_to_model,\n",
    "    model,\n",
    "    f\"{storage_dir}/{output_prefix}/tokenized.dataset\",\n",
    "    f\"{storage_dir}/{output_prefix}\",\n",
    "    \"state_emb\"\n",
    ")"
   ]
  },
  {
   "cell_type": "code",
   "execution_count": null,
   "metadata": {},
   "outputs": [],
   "source": [
    "isp = InSilicoPerturber(perturb_type=\"overexpress\",\n",
    "                        genes_to_perturb=\"all\",\n",
    "                        combos=0,\n",
    "                        anchor_gene=None,\n",
    "                        model_type=\"CellClassifier\",\n",
    "                        num_classes=2,\n",
    "                        emb_mode=\"cls\",                     \n",
    "                        cell_states_to_model=cell_states_to_model,\n",
    "                        state_embs_dict=state_embs_dict,\n",
    "                        max_ncells=1000,\n",
    "                        emb_layer=0,\n",
    "                        forward_batch_size=158,\n",
    "                        nproc=80)\n",
    "\n",
    "isp.perturb_data(\n",
    "    model,\n",
    "    f\"{storage_dir}/{output_prefix}/tokenized.dataset\",\n",
    "    f\"{storage_dir}/{output_prefix}\",\n",
    "    \"T_expand\"\n",
    ")"
   ]
  },
  {
   "cell_type": "code",
   "execution_count": null,
   "metadata": {},
   "outputs": [],
   "source": [
    "ispstats = InSilicoPerturberStats(mode=\"goal_state_shift\",\n",
    "                                  genes_perturbed=\"all\",\n",
    "                                  combos=0,\n",
    "                                  anchor_gene=None,\n",
    "                                  cell_states_to_model=cell_states_to_model)\n",
    "\n",
    "ispstats.get_stats(\n",
    "    f\"{storage_dir}\",\n",
    "    None,\n",
    "    f\"{storage_dir}\",\n",
    "    \"T_expand\"\n",
    ")"
   ]
  }
 ],
 "metadata": {
  "language_info": {
   "name": "python"
  }
 },
 "nbformat": 4,
 "nbformat_minor": 2
}
